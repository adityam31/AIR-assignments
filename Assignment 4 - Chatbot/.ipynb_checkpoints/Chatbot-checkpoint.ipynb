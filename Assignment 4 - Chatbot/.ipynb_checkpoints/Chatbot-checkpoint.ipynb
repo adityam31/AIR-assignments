{
 "cells": [
  {
   "cell_type": "code",
   "execution_count": 1,
   "metadata": {},
   "outputs": [],
   "source": [
    "import numpy as np\n",
    "import nltk\n",
    "import json\n",
    "import random"
   ]
  },
  {
   "cell_type": "code",
   "execution_count": 2,
   "metadata": {},
   "outputs": [
    {
     "data": {
      "text/plain": [
       "{'intents': [{'tag': 'greeting',\n",
       "   'patterns': ['Hi', 'Hello', 'Is anyone there?', 'Hey', 'Good day'],\n",
       "   'responses': ['Hi, Welcome to Investment Advisor. How can I help?',\n",
       "    'Hello, nice to see you. Welcome to Investment Advisor. How can I help?']},\n",
       "  {'tag': 'information',\n",
       "   'patterns': ['I am looking for investment options',\n",
       "    'Tell me investment options',\n",
       "    'Investment plans',\n",
       "    'What are the plans',\n",
       "    'Options for money'],\n",
       "   'responses': ['There are 2 plans available right now: Long Term ABC plan and Short term XYZ plan',\n",
       "    'We have two options available: Long Term ABC plan and Short term XYZ plan']},\n",
       "  {'tag': 'long',\n",
       "   'patterns': ['tell me about long term plan',\n",
       "    'Long term plan',\n",
       "    'What is the long term plan?',\n",
       "    'I want to invest long term',\n",
       "    'minimum risk investment'],\n",
       "   'responses': ['Long term plan is essentially a 20% boost in your invested money per year with minimum risk. This is valid till 5 years.',\n",
       "    'Minimum risk plan which gives 20% boost to your money with minimum risk.']},\n",
       "  {'tag': 'short',\n",
       "   'patterns': ['tell me about short term plan',\n",
       "    'Short term plan',\n",
       "    'What is the short term plan?',\n",
       "    'I want to invest short term',\n",
       "    'quick investment'],\n",
       "   'responses': ['Short term plan is essentially a 10% boost in your invested money per month. This is valid for 6 months. Market risks are involved']},\n",
       "  {'tag': 'goodbye',\n",
       "   'patterns': ['Bye', 'See you later', 'Goodbye'],\n",
       "   'responses': ['See you later, thanks for visiting',\n",
       "    'Have a nice day',\n",
       "    'Bye! Come back again soon.']},\n",
       "  {'tag': 'opentoday',\n",
       "   'patterns': ['Are you open today?',\n",
       "    'When do you open today?',\n",
       "    'What are your hours today?'],\n",
       "   'responses': ['Our hours are 9am-9pm every day',\n",
       "    'We are open from 9 am to 9pm every day of the week!']}]}"
      ]
     },
     "execution_count": 2,
     "metadata": {},
     "output_type": "execute_result"
    }
   ],
   "source": [
    "with open(\"intents.json\") as file:\n",
    "    data = json.load(file)\n",
    "data"
   ]
  },
  {
   "cell_type": "code",
   "execution_count": 3,
   "metadata": {},
   "outputs": [
    {
     "name": "stdout",
     "output_type": "stream",
     "text": [
      "Words:- ['hi', 'hello', 'is', 'anyon', 'ther', '?', 'hey', 'good', 'day', 'i', 'am', 'look', 'for', 'invest', 'opt', 'tel', 'me', 'invest', 'opt', 'invest', 'plan', 'what', 'ar', 'the', 'plan', 'opt', 'for', 'money', 'tel', 'me', 'about', 'long', 'term', 'plan', 'long', 'term', 'plan', 'what', 'is', 'the', 'long', 'term', 'plan', '?', 'i', 'want', 'to', 'invest', 'long', 'term', 'minim', 'risk', 'invest', 'tel', 'me', 'about', 'short', 'term', 'plan', 'short', 'term', 'plan', 'what', 'is', 'the', 'short', 'term', 'plan', '?', 'i', 'want', 'to', 'invest', 'short', 'term', 'quick', 'invest', 'bye', 'see', 'you', 'lat', 'goodby', 'ar', 'you', 'op', 'today', '?', 'when', 'do', 'you', 'op', 'today', '?', 'what', 'ar', 'yo', 'hour', 'today', '?']\n",
      "\n",
      "labels:- ['greeting', 'information', 'long', 'short', 'goodbye', 'opentoday']\n",
      "\n",
      "doc_x:- [['hi'], ['hello'], ['is', 'anyon', 'ther', '?'], ['hey'], ['good', 'day'], ['i', 'am', 'look', 'for', 'invest', 'opt'], ['tel', 'me', 'invest', 'opt'], ['invest', 'plan'], ['what', 'ar', 'the', 'plan'], ['opt', 'for', 'money'], ['tel', 'me', 'about', 'long', 'term', 'plan'], ['long', 'term', 'plan'], ['what', 'is', 'the', 'long', 'term', 'plan', '?'], ['i', 'want', 'to', 'invest', 'long', 'term'], ['minim', 'risk', 'invest'], ['tel', 'me', 'about', 'short', 'term', 'plan'], ['short', 'term', 'plan'], ['what', 'is', 'the', 'short', 'term', 'plan', '?'], ['i', 'want', 'to', 'invest', 'short', 'term'], ['quick', 'invest'], ['bye'], ['see', 'you', 'lat'], ['goodby'], ['ar', 'you', 'op', 'today', '?'], ['when', 'do', 'you', 'op', 'today', '?'], ['what', 'ar', 'yo', 'hour', 'today', '?']]\n",
      "\n",
      "doc_y:- ['greeting', 'greeting', 'greeting', 'greeting', 'greeting', 'information', 'information', 'information', 'information', 'information', 'long', 'long', 'long', 'long', 'long', 'short', 'short', 'short', 'short', 'short', 'goodbye', 'goodbye', 'goodbye', 'opentoday', 'opentoday', 'opentoday']\n",
      "\n"
     ]
    }
   ],
   "source": [
    "#Defining stemmer\n",
    "from nltk.stem.lancaster import LancasterStemmer\n",
    "stemmer = LancasterStemmer()\n",
    "\n",
    "#Defining List\n",
    "words = [] #store all the words\n",
    "labels = [] #store all the tags\n",
    "doc_x = [] #for storing x of training data\n",
    "doc_y = [] #for storing y of training data (class i.e tag to which it belongs)\n",
    "\n",
    "\n",
    "\n",
    "for intent in data[\"intents\"]:\n",
    "    for pattern in intent[\"patterns\"]:\n",
    "        \n",
    "        wrds = nltk.word_tokenize(pattern)\n",
    "        \n",
    "        for index, w in enumerate(wrds):\n",
    "            if w != \"?\":\n",
    "                w = stemmer.stem(w.lower())\n",
    "                wrds[index] = w\n",
    "            \n",
    "        words.extend(wrds)\n",
    "        doc_x.append(wrds)\n",
    "        doc_y.append(intent[\"tag\"])\n",
    "        \n",
    "    if intent[\"tag\"] not in labels:\n",
    "        labels.append(intent[\"tag\"])\n",
    "        \n",
    "print(\"Words:- \"+str(words)+\"\\n\")\n",
    "print(\"labels:- \"+str(labels)+\"\\n\")\n",
    "print(\"doc_x:- \"+str(doc_x)+\"\\n\")\n",
    "print(\"doc_y:- \"+str(doc_y)+\"\\n\")"
   ]
  },
  {
   "cell_type": "code",
   "execution_count": 4,
   "metadata": {},
   "outputs": [
    {
     "name": "stdout",
     "output_type": "stream",
     "text": [
      "Words:- ['?', 'about', 'am', 'anyon', 'ar', 'bye', 'day', 'do', 'for', 'good', 'goodby', 'hello', 'hey', 'hi', 'hour', 'i', 'invest', 'is', 'lat', 'long', 'look', 'me', 'minim', 'money', 'op', 'opt', 'plan', 'quick', 'risk', 'see', 'short', 'tel', 'term', 'the', 'ther', 'to', 'today', 'want', 'what', 'when', 'yo', 'you']\n",
      "\n",
      "labels:- ['goodbye', 'greeting', 'information', 'long', 'opentoday', 'short']\n",
      "\n"
     ]
    }
   ],
   "source": [
    "#Considering only unique words and sorting the words and labels list\n",
    "words = sorted(list(set(words)))\n",
    "labels = sorted(labels)\n",
    "\n",
    "print(\"Words:- \"+str(words)+\"\\n\")\n",
    "print(\"labels:- \"+str(labels)+\"\\n\")"
   ]
  },
  {
   "cell_type": "code",
   "execution_count": 5,
   "metadata": {},
   "outputs": [
    {
     "name": "stdout",
     "output_type": "stream",
     "text": [
      "[0, 0, 0, 0, 0, 0, 0, 0, 0, 0, 0, 0, 0, 1, 0, 0, 0, 0, 0, 0, 0, 0, 0, 0, 0, 0, 0, 0, 0, 0, 0, 0, 0, 0, 0, 0, 0, 0, 0, 0, 0, 0]\t[0, 1, 0, 0, 0, 0]\n",
      "[0, 0, 0, 0, 0, 0, 0, 0, 0, 0, 0, 1, 0, 0, 0, 0, 0, 0, 0, 0, 0, 0, 0, 0, 0, 0, 0, 0, 0, 0, 0, 0, 0, 0, 0, 0, 0, 0, 0, 0, 0, 0]\t[0, 1, 0, 0, 0, 0]\n",
      "[1, 0, 0, 1, 0, 0, 0, 0, 0, 0, 0, 0, 0, 0, 0, 0, 0, 1, 0, 0, 0, 0, 0, 0, 0, 0, 0, 0, 0, 0, 0, 0, 0, 0, 1, 0, 0, 0, 0, 0, 0, 0]\t[0, 1, 0, 0, 0, 0]\n",
      "[0, 0, 0, 0, 0, 0, 0, 0, 0, 0, 0, 0, 1, 0, 0, 0, 0, 0, 0, 0, 0, 0, 0, 0, 0, 0, 0, 0, 0, 0, 0, 0, 0, 0, 0, 0, 0, 0, 0, 0, 0, 0]\t[0, 1, 0, 0, 0, 0]\n",
      "[0, 0, 0, 0, 0, 0, 1, 0, 0, 1, 0, 0, 0, 0, 0, 0, 0, 0, 0, 0, 0, 0, 0, 0, 0, 0, 0, 0, 0, 0, 0, 0, 0, 0, 0, 0, 0, 0, 0, 0, 0, 0]\t[0, 1, 0, 0, 0, 0]\n",
      "[0, 0, 1, 0, 0, 0, 0, 0, 1, 0, 0, 0, 0, 0, 0, 1, 1, 0, 0, 0, 1, 0, 0, 0, 0, 1, 0, 0, 0, 0, 0, 0, 0, 0, 0, 0, 0, 0, 0, 0, 0, 0]\t[0, 0, 1, 0, 0, 0]\n",
      "[0, 0, 0, 0, 0, 0, 0, 0, 0, 0, 0, 0, 0, 0, 0, 0, 1, 0, 0, 0, 0, 1, 0, 0, 0, 1, 0, 0, 0, 0, 0, 1, 0, 0, 0, 0, 0, 0, 0, 0, 0, 0]\t[0, 0, 1, 0, 0, 0]\n",
      "[0, 0, 0, 0, 0, 0, 0, 0, 0, 0, 0, 0, 0, 0, 0, 0, 1, 0, 0, 0, 0, 0, 0, 0, 0, 0, 1, 0, 0, 0, 0, 0, 0, 0, 0, 0, 0, 0, 0, 0, 0, 0]\t[0, 0, 1, 0, 0, 0]\n",
      "[0, 0, 0, 0, 1, 0, 0, 0, 0, 0, 0, 0, 0, 0, 0, 0, 0, 0, 0, 0, 0, 0, 0, 0, 0, 0, 1, 0, 0, 0, 0, 0, 0, 1, 0, 0, 0, 0, 1, 0, 0, 0]\t[0, 0, 1, 0, 0, 0]\n",
      "[0, 0, 0, 0, 0, 0, 0, 0, 1, 0, 0, 0, 0, 0, 0, 0, 0, 0, 0, 0, 0, 0, 0, 1, 0, 1, 0, 0, 0, 0, 0, 0, 0, 0, 0, 0, 0, 0, 0, 0, 0, 0]\t[0, 0, 1, 0, 0, 0]\n",
      "[0, 1, 0, 0, 0, 0, 0, 0, 0, 0, 0, 0, 0, 0, 0, 0, 0, 0, 0, 1, 0, 1, 0, 0, 0, 0, 1, 0, 0, 0, 0, 1, 1, 0, 0, 0, 0, 0, 0, 0, 0, 0]\t[0, 0, 0, 1, 0, 0]\n",
      "[0, 0, 0, 0, 0, 0, 0, 0, 0, 0, 0, 0, 0, 0, 0, 0, 0, 0, 0, 1, 0, 0, 0, 0, 0, 0, 1, 0, 0, 0, 0, 0, 1, 0, 0, 0, 0, 0, 0, 0, 0, 0]\t[0, 0, 0, 1, 0, 0]\n",
      "[1, 0, 0, 0, 0, 0, 0, 0, 0, 0, 0, 0, 0, 0, 0, 0, 0, 1, 0, 1, 0, 0, 0, 0, 0, 0, 1, 0, 0, 0, 0, 0, 1, 1, 0, 0, 0, 0, 1, 0, 0, 0]\t[0, 0, 0, 1, 0, 0]\n",
      "[0, 0, 0, 0, 0, 0, 0, 0, 0, 0, 0, 0, 0, 0, 0, 1, 1, 0, 0, 1, 0, 0, 0, 0, 0, 0, 0, 0, 0, 0, 0, 0, 1, 0, 0, 1, 0, 1, 0, 0, 0, 0]\t[0, 0, 0, 1, 0, 0]\n",
      "[0, 0, 0, 0, 0, 0, 0, 0, 0, 0, 0, 0, 0, 0, 0, 0, 1, 0, 0, 0, 0, 0, 1, 0, 0, 0, 0, 0, 1, 0, 0, 0, 0, 0, 0, 0, 0, 0, 0, 0, 0, 0]\t[0, 0, 0, 1, 0, 0]\n",
      "[0, 1, 0, 0, 0, 0, 0, 0, 0, 0, 0, 0, 0, 0, 0, 0, 0, 0, 0, 0, 0, 1, 0, 0, 0, 0, 1, 0, 0, 0, 1, 1, 1, 0, 0, 0, 0, 0, 0, 0, 0, 0]\t[0, 0, 0, 0, 0, 1]\n",
      "[0, 0, 0, 0, 0, 0, 0, 0, 0, 0, 0, 0, 0, 0, 0, 0, 0, 0, 0, 0, 0, 0, 0, 0, 0, 0, 1, 0, 0, 0, 1, 0, 1, 0, 0, 0, 0, 0, 0, 0, 0, 0]\t[0, 0, 0, 0, 0, 1]\n",
      "[1, 0, 0, 0, 0, 0, 0, 0, 0, 0, 0, 0, 0, 0, 0, 0, 0, 1, 0, 0, 0, 0, 0, 0, 0, 0, 1, 0, 0, 0, 1, 0, 1, 1, 0, 0, 0, 0, 1, 0, 0, 0]\t[0, 0, 0, 0, 0, 1]\n",
      "[0, 0, 0, 0, 0, 0, 0, 0, 0, 0, 0, 0, 0, 0, 0, 1, 1, 0, 0, 0, 0, 0, 0, 0, 0, 0, 0, 0, 0, 0, 1, 0, 1, 0, 0, 1, 0, 1, 0, 0, 0, 0]\t[0, 0, 0, 0, 0, 1]\n",
      "[0, 0, 0, 0, 0, 0, 0, 0, 0, 0, 0, 0, 0, 0, 0, 0, 1, 0, 0, 0, 0, 0, 0, 0, 0, 0, 0, 1, 0, 0, 0, 0, 0, 0, 0, 0, 0, 0, 0, 0, 0, 0]\t[0, 0, 0, 0, 0, 1]\n",
      "[0, 0, 0, 0, 0, 1, 0, 0, 0, 0, 0, 0, 0, 0, 0, 0, 0, 0, 0, 0, 0, 0, 0, 0, 0, 0, 0, 0, 0, 0, 0, 0, 0, 0, 0, 0, 0, 0, 0, 0, 0, 0]\t[1, 0, 0, 0, 0, 0]\n",
      "[0, 0, 0, 0, 0, 0, 0, 0, 0, 0, 0, 0, 0, 0, 0, 0, 0, 0, 1, 0, 0, 0, 0, 0, 0, 0, 0, 0, 0, 1, 0, 0, 0, 0, 0, 0, 0, 0, 0, 0, 0, 1]\t[1, 0, 0, 0, 0, 0]\n",
      "[0, 0, 0, 0, 0, 0, 0, 0, 0, 0, 1, 0, 0, 0, 0, 0, 0, 0, 0, 0, 0, 0, 0, 0, 0, 0, 0, 0, 0, 0, 0, 0, 0, 0, 0, 0, 0, 0, 0, 0, 0, 0]\t[1, 0, 0, 0, 0, 0]\n",
      "[1, 0, 0, 0, 1, 0, 0, 0, 0, 0, 0, 0, 0, 0, 0, 0, 0, 0, 0, 0, 0, 0, 0, 0, 1, 0, 0, 0, 0, 0, 0, 0, 0, 0, 0, 0, 1, 0, 0, 0, 0, 1]\t[0, 0, 0, 0, 1, 0]\n",
      "[1, 0, 0, 0, 0, 0, 0, 1, 0, 0, 0, 0, 0, 0, 0, 0, 0, 0, 0, 0, 0, 0, 0, 0, 1, 0, 0, 0, 0, 0, 0, 0, 0, 0, 0, 0, 1, 0, 0, 1, 0, 1]\t[0, 0, 0, 0, 1, 0]\n",
      "[1, 0, 0, 0, 1, 0, 0, 0, 0, 0, 0, 0, 0, 0, 1, 0, 0, 0, 0, 0, 0, 0, 0, 0, 0, 0, 0, 0, 0, 0, 0, 0, 0, 0, 0, 0, 1, 0, 1, 0, 1, 0]\t[0, 0, 0, 0, 1, 0]\n"
     ]
    }
   ],
   "source": [
    "#Now to proviide input to our model, we will use one hot encoding\n",
    "\n",
    "x_train = []\n",
    "y_train = []\n",
    "\n",
    "output_empty = []  #temporary row for temporary use\n",
    "\n",
    "for i in range(0, len(labels)):\n",
    "    output_empty.append(0)\n",
    "\n",
    "    \n",
    "for index, x in enumerate(doc_x):\n",
    "    bag = []\n",
    "    \n",
    "    for word in words:\n",
    "        if word in x:\n",
    "            bag.append(1)\n",
    "        else:\n",
    "            bag.append(0)\n",
    "    \n",
    "    x_train.append(bag)\n",
    "    \n",
    "    output_row = output_empty[:]\n",
    "    output_row[labels.index(doc_y[index])] = 1\n",
    "    y_train.append(output_row)\n",
    "    \n",
    "    \n",
    "for index, x in enumerate(x_train):\n",
    "    print(str(x)+\"\\t\"+str(y_train[index]))    "
   ]
  },
  {
   "cell_type": "code",
   "execution_count": 6,
   "metadata": {},
   "outputs": [],
   "source": [
    "#Converting them to numpy array\n",
    "x_train = np.array(x_train)\n",
    "y_train = np.array(y_train)"
   ]
  },
  {
   "cell_type": "code",
   "execution_count": 7,
   "metadata": {},
   "outputs": [
    {
     "data": {
      "text/plain": [
       "MLPClassifier(activation='relu', alpha=0.0001, batch_size='auto', beta_1=0.9,\n",
       "              beta_2=0.999, early_stopping=False, epsilon=1e-08,\n",
       "              hidden_layer_sizes=(42, 42), learning_rate='constant',\n",
       "              learning_rate_init=0.001, max_iter=500, momentum=0.9,\n",
       "              n_iter_no_change=10, nesterovs_momentum=True, power_t=0.5,\n",
       "              random_state=None, shuffle=True, solver='adam', tol=0.0001,\n",
       "              validation_fraction=0.1, verbose=False, warm_start=False)"
      ]
     },
     "execution_count": 7,
     "metadata": {},
     "output_type": "execute_result"
    }
   ],
   "source": [
    "#Training our neural network\n",
    "from sklearn.neural_network import MLPClassifier\n",
    "\n",
    "model = MLPClassifier(hidden_layer_sizes=(len(x_train[0]),len(x_train[0])),  max_iter=500)\n",
    "model.fit(x_train, y_train)"
   ]
  },
  {
   "cell_type": "code",
   "execution_count": 8,
   "metadata": {},
   "outputs": [],
   "source": [
    "#Client Side\n",
    "\n",
    "def convert_user_input(user_input, words):\n",
    "    \n",
    "    nltk_user_input = nltk.word_tokenize(user_input)\n",
    "    \n",
    "    for index, word in enumerate(nltk_user_input):\n",
    "        nltk_user_input[index] = stemmer.stem(word)\n",
    "        \n",
    "    bag = []\n",
    "    \n",
    "    for w in words:\n",
    "        if w in nltk_user_input:\n",
    "            bag.append(1)\n",
    "        else:\n",
    "            bag.append(0)\n",
    "            \n",
    "    bag = np.array(bag)\n",
    "    \n",
    "    return bag\n",
    "        \n",
    "def output(result):\n",
    "    flag = False\n",
    "    \n",
    "    for index, value in enumerate(result):\n",
    "        if value == 1:\n",
    "            flag = True\n",
    "            break\n",
    "            \n",
    "    if flag == True:\n",
    "        result_index = index\n",
    "        \n",
    "        result_tag = labels[result_index]\n",
    "        \n",
    "        for intent in data[\"intents\"]:\n",
    "            if intent[\"tag\"] == result_tag:\n",
    "                responses = intent[\"responses\"]\n",
    "                break\n",
    "                \n",
    "        return random.choice(responses)\n",
    "    else:\n",
    "        return \"Sorry, didn't undestand what you were saying. Please try again\"\n",
    "            \n",
    "    \n",
    "\n",
    "\n",
    "\n",
    "def chat():\n",
    "    print(\"Chat with our bot:- (Enter quit to exit) \\n\")\n",
    "    while True:\n",
    "        user_input = input(\"You:- \")\n",
    "\n",
    "        user_input = user_input.lower()\n",
    "\n",
    "        if user_input == \"quit\":\n",
    "            break\n",
    "\n",
    "        converted_user_input = convert_user_input(user_input, words)\n",
    "        result = model.predict([converted_user_input])\n",
    "        bot_response = output(result[0])\n",
    "        print(\"\\nBot:- \"+bot_response+\"\\n\")\n"
   ]
  },
  {
   "cell_type": "code",
   "execution_count": 10,
   "metadata": {},
   "outputs": [
    {
     "name": "stdout",
     "output_type": "stream",
     "text": [
      "Chat with our bot:- (Enter quit to exit) \n",
      "\n",
      "You:- hi\n",
      "\n",
      "Bot:- Hello, nice to see you. Welcome to Investment Advisor. How can I help?\n",
      "\n",
      "You:- i am looking for investment plan\n",
      "\n",
      "Bot:- There are 2 plans available right now: Long Term ABC plan and Short term XYZ plan\n",
      "\n",
      "You:- Tell me about long term plab\n",
      "\n",
      "Bot:- Minimum risk plan which gives 20% boost to your money with minimum risk.\n",
      "\n",
      "You:- what about the short term plan\n",
      "\n",
      "Bot:- Short term plan is essentially a 10% boost in your invested money per month. This is valid for 6 months. Market risks are involved\n",
      "\n",
      "You:- see you later\n",
      "\n",
      "Bot:- See you later, thanks for visiting\n",
      "\n",
      "You:- quit\n"
     ]
    }
   ],
   "source": [
    "#Speaking with Chatbot\n",
    "chat()"
   ]
  },
  {
   "cell_type": "code",
   "execution_count": null,
   "metadata": {},
   "outputs": [],
   "source": []
  }
 ],
 "metadata": {
  "kernelspec": {
   "display_name": "Python 3",
   "language": "python",
   "name": "python3"
  },
  "language_info": {
   "codemirror_mode": {
    "name": "ipython",
    "version": 3
   },
   "file_extension": ".py",
   "mimetype": "text/x-python",
   "name": "python",
   "nbconvert_exporter": "python",
   "pygments_lexer": "ipython3",
   "version": "3.7.3"
  }
 },
 "nbformat": 4,
 "nbformat_minor": 2
}
